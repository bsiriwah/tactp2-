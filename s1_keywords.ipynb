{
 "cells": [
  {
   "cell_type": "markdown",
   "metadata": {},
   "source": [
    "# Testing keyword extraction with YAKE"
   ]
  },
  {
   "cell_type": "code",
   "execution_count": 5,
   "metadata": {},
   "outputs": [],
   "source": [
    "import os\n",
    "import yake"
   ]
  },
  {
   "cell_type": "code",
   "execution_count": 6,
   "metadata": {},
   "outputs": [
    {
     "data": {
      "text/plain": [
       "{'conseil communal', 'conseil général'}"
      ]
     },
     "execution_count": 6,
     "metadata": {},
     "output_type": "execute_result"
    }
   ],
   "source": [
    "ignored = set([\"conseil communal\", \"conseil général\"])\n",
    "ignored"
   ]
  },
  {
   "cell_type": "code",
   "execution_count": 3,
   "metadata": {},
   "outputs": [
    {
     "data": {
      "text/plain": [
       "<yake.yake.KeywordExtractor at 0x16e19b06c48>"
      ]
     },
     "execution_count": 3,
     "metadata": {},
     "output_type": "execute_result"
    }
   ],
   "source": [
    "kw_extractor = yake.KeywordExtractor(lan=\"fr\", top=20)\n",
    "kw_extractor"
   ]
  },
  {
   "cell_type": "code",
   "execution_count": 4,
   "metadata": {},
   "outputs": [],
   "source": [
    "data_path = \"../data/txt/\"\n",
    "files = os.listdir(data_path)\n"
   ]
  },
  {
   "cell_type": "code",
   "execution_count": 5,
   "metadata": {},
   "outputs": [
    {
     "data": {
      "text/plain": [
       "2828"
      ]
     },
     "execution_count": 5,
     "metadata": {},
     "output_type": "execute_result"
    }
   ],
   "source": [
    "len(files)"
   ]
  },
  {
   "cell_type": "code",
   "execution_count": null,
   "metadata": {},
   "outputs": [],
   "source": []
  },
  {
   "cell_type": "markdown",
   "metadata": {},
   "source": [
    "## Extraire les mots clés des documents avec YAKE"
   ]
  },
  {
   "cell_type": "code",
   "execution_count": 6,
   "metadata": {
    "scrolled": true
   },
   "outputs": [
    {
     "data": {
      "text/plain": [
       "['Bxl_1847_Tome_I1_Part_1.txt',\n",
       " 'Bxl_1847_Tome_I1_Part_2.txt',\n",
       " 'Bxl_1847_Tome_I1_Part_3.txt',\n",
       " 'Bxl_1847_Tome_I1_Part_4.txt',\n",
       " 'Bxl_1847_Tome_I1_Part_5.txt',\n",
       " 'Bxl_1848_Tome_I1_Part_1.txt',\n",
       " 'Bxl_1848_Tome_I1_Part_2.txt',\n",
       " 'Bxl_1848_Tome_I1_Part_3.txt',\n",
       " 'Bxl_1849_Tome_I1_Part_1.txt',\n",
       " 'Bxl_1849_Tome_I1_Part_2.txt',\n",
       " 'Bxl_1849_Tome_I1_Part_3.txt',\n",
       " 'Bxl_1849_Tome_I1_Part_4.txt',\n",
       " 'Bxl_1849_Tome_I1_Part_5.txt',\n",
       " 'Bxl_1849_Tome_II1_Part_1.txt',\n",
       " 'Bxl_1849_Tome_II1_Part_2.txt',\n",
       " 'Bxl_1849_Tome_II1_Part_3.txt',\n",
       " 'Bxl_1849_Tome_II1_Part_4.txt',\n",
       " 'Bxl_1849_Tome_II1_Part_5.txt',\n",
       " 'Bxl_1849_Tome_II1_Part_6.txt',\n",
       " 'Bxl_1849_Tome_II1_Part_7.txt']"
      ]
     },
     "execution_count": 6,
     "metadata": {},
     "output_type": "execute_result"
    }
   ],
   "source": [
    "files[:20]"
   ]
  },
  {
   "cell_type": "code",
   "execution_count": 14,
   "metadata": {
    "tags": []
   },
   "outputs": [
    {
     "name": "stdout",
     "output_type": "stream",
     "text": [
      "Bxl_1885_Tome_I1_Part_1.txt mentions these keywords: section des finances, conseil d'administration, l'echevin de mot, section du contentieux, ville de bruxelles...\n",
      "Bxl_1885_Tome_I1_Part_2.txt mentions these keywords: conseil d'administration...\n",
      "Bxl_1885_Tome_I1_Part_3.txt mentions these keywords: conseil des hospices, conseil d'administration, section des finances, l'echevin janssen...\n",
      "Bxl_1885_Tome_I1_Part_4.txt mentions these keywords: section des finances...\n",
      "Bxl_1885_Tome_I1_Part_5.txt mentions these keywords: l'echevin walravens, section des finances...\n",
      "Bxl_1885_Tome_I1_Part_6.txt mentions these keywords: section de l'instruction, terrains rue, l'instruction publique...\n",
      "Bxl_1885_Tome_I2_Part_1.txt mentions these keywords: bruxelles port, van mierlo...\n",
      "Bxl_1885_Tome_I2_Part_10.txt mentions these keywords: l'honorable bourgmestre...\n",
      "Bxl_1885_Tome_I2_Part_11.txt mentions these keywords: conseil d'administration, l'honorable bourgmestre, prix du gaz...\n",
      "Bxl_1885_Tome_I2_Part_12.txt mentions these keywords: sommes nombre sommes, penses chiffres arrã, traitement du personnel, frais d'administration, sommes nombre, nombre sommes...\n",
      "Bxl_1885_Tome_I2_Part_13.txt mentions these keywords: maison rue, maison boulevard anspach, maison rue van, maison boulevard, ecole rue...\n",
      "Bxl_1885_Tome_I2_Part_14.txt mentions these keywords: action intentã, concession de terrain, terrains rue, ville d'un terrain...\n",
      "Bxl_1885_Tome_I2_Part_2.txt mentions these keywords: l'echevin walravens, palais de justice...\n",
      "Bxl_1885_Tome_I2_Part_3.txt mentions these keywords: section des finances...\n",
      "Bxl_1885_Tome_I2_Part_4.txt mentions these keywords: l'echevin walravens...\n",
      "Bxl_1885_Tome_I2_Part_5.txt mentions these keywords: rue pleliindex rue, rue joseph...\n",
      "Bxl_1885_Tome_I2_Part_6.txt mentions these keywords: paiement d'une somme, ville de bruxelles, voie publique...\n",
      "Bxl_1885_Tome_I2_Part_7.txt mentions these keywords: conseil des hospices, conseil d'administration, concours permanent...\n",
      "Bxl_1885_Tome_I2_Part_8.txt mentions these keywords: recettes ordinaires, penses ordinaires...\n",
      "Bxl_1885_Tome_I2_Part_9.txt mentions these keywords: francs prã...\n",
      "Lkn_1885_Tome_I_Part_1.txt mentions these keywords: ville de bruxelles...\n",
      "Lkn_1885_Tome_I_Part_2.txt mentions these keywords: budget communal, dit communal, cole moyenne...\n",
      "Lkn_1885_Tome_I_Part_3.txt mentions these keywords: conseil supã...\n",
      "Lkn_1885_Tome_I_Part_4.txt mentions these keywords: section des finances, l'echevin verhoeven, bureau de bienfaisance...\n",
      "Lkn_1885_Tome_I_Part_5.txt mentions these keywords: section des finances...\n",
      "Lkn_1885_Tome_I_Part_6.txt mentions these keywords: bureau de bienfaisance, section des finances...\n",
      "Lkn_1885_Tome_I_Part_7.txt mentions these keywords: compagnies d'assurances...\n",
      "Lkn_1885_Tome_I_Part_8.txt mentions these keywords: section des finances, voyez les noms, voyez voirie...\n",
      "Lkn_1885_Tome_RptAn_Part_1.txt mentions these keywords: travaux publics...\n",
      "Lkn_1885_Tome_RptAn_Part_2.txt mentions these keywords: cole moyenne, rue fransman, rue tielemans rue...\n",
      "Lkn_1885_Tome_RptAn_Part_3.txt mentions these keywords: cole moyenne, fonds communal, nouvelles rues crã...\n",
      "Lkn_1885_Tome_RptAn_Part_4.txt mentions these keywords: cole moyenne, coles primaires...\n",
      "Lkn_1885_Tome_RptAn_Part_5.txt mentions these keywords: rue medori, rue des palais, rue masui, rue fransman, syphon rue medori, rue de molenbeek...\n"
     ]
    }
   ],
   "source": [
    "for f in sorted(files):\n",
    "    \n",
    "    if (f.find(\"_1885_\")!=-1):\n",
    "        text = open(f'{data_path}/{f}', encoding='latin-1').read()\n",
    "        keywords = kw_extractor.extract_keywords(text)\n",
    "        kept = []\n",
    "        for score, kw in keywords:\n",
    "            words = kw.split()\n",
    "            if len(words) > 1 and kw not in ignored:\n",
    "                kept.append(kw)\n",
    "        print(f\"{f} mentions these keywords: {', '.join(kept)}...\")"
   ]
  },
  {
   "cell_type": "code",
   "execution_count": null,
   "metadata": {},
   "outputs": [],
   "source": []
  }
 ],
 "metadata": {
  "kernelspec": {
   "display_name": "Python 3",
   "language": "python",
   "name": "python3"
  },
  "language_info": {
   "codemirror_mode": {
    "name": "ipython",
    "version": 3
   },
   "file_extension": ".py",
   "mimetype": "text/x-python",
   "name": "python",
   "nbconvert_exporter": "python",
   "pygments_lexer": "ipython3",
   "version": "3.7.9"
  }
 },
 "nbformat": 4,
 "nbformat_minor": 2
}
