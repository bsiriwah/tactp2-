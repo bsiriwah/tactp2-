{
 "cells": [
  {
   "cell_type": "markdown",
   "metadata": {},
   "source": [
    "# Building a wordcloud based on one year of bulletins"
   ]
  },
  {
   "cell_type": "markdown",
   "metadata": {},
   "source": [
    "## Créer un fichier contenant les bulletins d'une année donnée"
   ]
  },
  {
   "cell_type": "code",
   "execution_count": 12,
   "metadata": {},
   "outputs": [],
   "source": [
    "YEAR = 1885"
   ]
  },
  {
   "cell_type": "code",
   "execution_count": 13,
   "metadata": {},
   "outputs": [
    {
     "data": {
      "text/plain": [
       "['Bxl_1885_Tome_I1_Part_1.txt',\n",
       " 'Bxl_1885_Tome_I1_Part_2.txt',\n",
       " 'Bxl_1885_Tome_I1_Part_3.txt',\n",
       " 'Bxl_1885_Tome_I1_Part_4.txt',\n",
       " 'Bxl_1885_Tome_I1_Part_5.txt',\n",
       " 'Bxl_1885_Tome_I1_Part_6.txt',\n",
       " 'Bxl_1885_Tome_I2_Part_1.txt',\n",
       " 'Bxl_1885_Tome_I2_Part_10.txt',\n",
       " 'Bxl_1885_Tome_I2_Part_11.txt',\n",
       " 'Bxl_1885_Tome_I2_Part_12.txt',\n",
       " 'Bxl_1885_Tome_I2_Part_13.txt',\n",
       " 'Bxl_1885_Tome_I2_Part_14.txt',\n",
       " 'Bxl_1885_Tome_I2_Part_2.txt',\n",
       " 'Bxl_1885_Tome_I2_Part_3.txt',\n",
       " 'Bxl_1885_Tome_I2_Part_4.txt',\n",
       " 'Bxl_1885_Tome_I2_Part_5.txt',\n",
       " 'Bxl_1885_Tome_I2_Part_6.txt',\n",
       " 'Bxl_1885_Tome_I2_Part_7.txt',\n",
       " 'Bxl_1885_Tome_I2_Part_8.txt',\n",
       " 'Bxl_1885_Tome_I2_Part_9.txt',\n",
       " 'Lkn_1885_Tome_I_Part_1.txt',\n",
       " 'Lkn_1885_Tome_I_Part_2.txt',\n",
       " 'Lkn_1885_Tome_I_Part_3.txt',\n",
       " 'Lkn_1885_Tome_I_Part_4.txt',\n",
       " 'Lkn_1885_Tome_I_Part_5.txt',\n",
       " 'Lkn_1885_Tome_I_Part_6.txt',\n",
       " 'Lkn_1885_Tome_I_Part_7.txt',\n",
       " 'Lkn_1885_Tome_I_Part_8.txt',\n",
       " 'Lkn_1885_Tome_RptAn_Part_1.txt',\n",
       " 'Lkn_1885_Tome_RptAn_Part_2.txt',\n",
       " 'Lkn_1885_Tome_RptAn_Part_3.txt',\n",
       " 'Lkn_1885_Tome_RptAn_Part_4.txt',\n",
       " 'Lkn_1885_Tome_RptAn_Part_5.txt']"
      ]
     },
     "execution_count": 13,
     "metadata": {},
     "output_type": "execute_result"
    }
   ],
   "source": [
    "from os import listdir\n",
    "from os.path import isfile, join\n",
    "\n",
    "txt_path = '../data/txt'\n",
    "\n",
    "txts = [f for f in listdir(txt_path) if isfile(join(txt_path, f)) and str(YEAR) in f]\n",
    "txts"
   ]
  },
  {
   "cell_type": "code",
   "execution_count": 14,
   "metadata": {},
   "outputs": [],
   "source": [
    "content_list = []\n",
    "for txt in txts:\n",
    "    with open(f'{txt_path}/{txt}', encoding='utf-8') as f:\n",
    "        content_list.append(f.read())"
   ]
  },
  {
   "cell_type": "code",
   "execution_count": 15,
   "metadata": {},
   "outputs": [
    {
     "data": {
      "text/plain": [
       "33"
      ]
     },
     "execution_count": 15,
     "metadata": {},
     "output_type": "execute_result"
    }
   ],
   "source": [
    "len(content_list)"
   ]
  },
  {
   "cell_type": "code",
   "execution_count": 16,
   "metadata": {},
   "outputs": [
    {
     "data": {
      "text/plain": [
       "'VILLE\\n\\nDE\\n\\nBRUXELLES.\\n\\nBULLETIN\\n\\nCOMMUNAL\\n\\nANNÉE\\n\\nPREMIÈRE\\n\\nTOME\\n\\nCOMPTE\\n\\nRENDU\\n\\nI885.\\n\\nPARTIE.\\n\\nI .\\nER\\n\\nDES\\n\\nSÉANCES.\\n\\nBRUXELLES,\\nIMPRIMERIE DE V JULIEN BAERT80EN, SUCCI DE BOLS-WIT TOUCK.\\nVU\\n\\n1885\\n\\n\\x0c\\x0cH* 1.\\n\\nCOMPTE RENDU DE LA SÉANCE DU 1\\n\\nER\\n\\nJANVIER 1 8 8 5 .\\n\\nVILLE D E B R U X E L L E S .\\n\\nBULLETIN\\n\\nCOMMUNAL\\n\\nANNÉE\\n\\nCONSEIL\\n\\nI885.\\n\\nC O M M U N A L\\n\\nSéance du 1er Janvier 1885.\\nPrésidence de M . BULS, Bourgmestre.\\n\\nSOMMAIRE :\\n\\nInstallation des Échevins nommés par arrêté royal du 15 décembre 18'"
      ]
     },
     "execution_count": 16,
     "metadata": {},
     "output_type": "execute_result"
    }
   ],
   "source": [
    "content_list[0][:500]"
   ]
  },
  {
   "cell_type": "markdown",
   "metadata": {},
   "source": [
    "## Enlever les stopwords, les mots courts et non alphabétiques et stocker le résultat dans un nouveau fichier"
   ]
  },
  {
   "cell_type": "code",
   "execution_count": 18,
   "metadata": {
    "tags": []
   },
   "outputs": [],
   "source": [
    "from filtering import filtering\n",
    "\n",
    "filtering(YEAR)"
   ]
  },
  {
   "cell_type": "markdown",
   "metadata": {},
   "source": [
    "## Créer le word cloud"
   ]
  },
  {
   "cell_type": "code",
   "execution_count": null,
   "metadata": {},
   "outputs": [],
   "source": [
    "\n",
    "import os\n",
    "import matplotlib.pyplot as plt\n",
    "import random\n",
    "import path\n",
    "from wordcloud import WordCloud\n",
    "\n",
    "\n",
    "file_content = open(\"1885_keywords.txt\",'r').read()\n",
    "wordcloud = WordCloud( background_color = 'black', width = 12000, height = 6000).generate(file_content)\n",
    "\n",
    "plt.imshow(wordcloud)\n",
    "\n",
    "plt.savefig('wordcloud.png')\n",
    "plt.axis('off')\n",
    "plt.show()"
   ]
  },
  {
   "cell_type": "code",
   "execution_count": 11,
   "metadata": {
    "scrolled": true
   },
   "outputs": [
    {
     "ename": "NameError",
     "evalue": "name 'year' is not defined",
     "output_type": "error",
     "traceback": [
      "\u001b[1;31m---------------------------------------------------------------------------\u001b[0m",
      "\u001b[1;31mNameError\u001b[0m                                 Traceback (most recent call last)",
      "\u001b[1;32m<ipython-input-11-8f58c9c2af9d>\u001b[0m in \u001b[0;36m<module>\u001b[1;34m\u001b[0m\n\u001b[0;32m      3\u001b[0m command = [\n\u001b[0;32m      4\u001b[0m     \u001b[1;34m'wordcloud_cli'\u001b[0m\u001b[1;33m,\u001b[0m\u001b[1;33m\u001b[0m\u001b[1;33m\u001b[0m\u001b[0m\n\u001b[1;32m----> 5\u001b[1;33m     \u001b[1;34m'--text'\u001b[0m\u001b[1;33m,\u001b[0m \u001b[1;34mf'{year}.txt'\u001b[0m\u001b[1;33m,\u001b[0m\u001b[1;33m\u001b[0m\u001b[1;33m\u001b[0m\u001b[0m\n\u001b[0m\u001b[0;32m      6\u001b[0m     \u001b[1;34m'--imagefile'\u001b[0m\u001b[1;33m,\u001b[0m \u001b[1;34mf'{year}.png'\u001b[0m\u001b[1;33m,\u001b[0m\u001b[1;33m\u001b[0m\u001b[1;33m\u001b[0m\u001b[0m\n\u001b[0;32m      7\u001b[0m     \u001b[1;34m'--width'\u001b[0m\u001b[1;33m,\u001b[0m \u001b[1;34m'2000'\u001b[0m\u001b[1;33m,\u001b[0m\u001b[1;33m\u001b[0m\u001b[1;33m\u001b[0m\u001b[0m\n",
      "\u001b[1;31mNameError\u001b[0m: name 'year' is not defined"
     ]
    }
   ],
   "source": [
    "import subprocess\n",
    "\n",
    "command = [\n",
    "    'wordcloud_cli',\n",
    "    '--text', f'{year}.txt',\n",
    "    '--imagefile', f'{year}.png',\n",
    "    '--width', '2000',\n",
    "    '--height', '1000',\n",
    "]\n",
    "\n",
    "subprocess.run(command, capture_output=True)"
   ]
  },
  {
   "cell_type": "markdown",
   "metadata": {},
   "source": [
    "## Afficher le word cloud"
   ]
  },
  {
   "cell_type": "code",
   "execution_count": 11,
   "metadata": {},
   "outputs": [
    {
     "data": {
      "image/png": "\n",
      "text/plain": [
       "<IPython.core.display.Image object>"
      ]
     },
     "execution_count": 11,
     "metadata": {},
     "output_type": "execute_result"
    }
   ],
   "source": [
    "from IPython.display import Image\n",
    "\n",
    "Image(filename=f'{year}.png')"
   ]
  },
  {
   "cell_type": "code",
   "execution_count": null,
   "metadata": {},
   "outputs": [],
   "source": []
  }
 ],
 "metadata": {
  "kernelspec": {
   "display_name": "Python 3",
   "language": "python",
   "name": "python3"
  },
  "language_info": {
   "codemirror_mode": {
    "name": "ipython",
    "version": 3
   },
   "file_extension": ".py",
   "mimetype": "text/x-python",
   "name": "python",
   "nbconvert_exporter": "python",
   "pygments_lexer": "ipython3",
   "version": "3.7.9"
  }
 },
 "nbformat": 4,
 "nbformat_minor": 2
}
