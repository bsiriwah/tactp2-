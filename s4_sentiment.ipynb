{
 "cells": [
  {
   "cell_type": "markdown",
   "metadata": {},
   "source": [
    "\n",
    "\n",
    "# Sentiment analysis with Textblob-FR"
   ]
  },
  {
   "cell_type": "code",
   "execution_count": 12,
   "metadata": {
    "scrolled": true
   },
   "outputs": [],
   "source": [
    "import sys\n",
    "from textblob import Blobber\n",
    "from textblob_fr import PatternTagger, PatternAnalyzer"
   ]
  },
  {
   "cell_type": "markdown",
   "metadata": {},
   "source": [
    "## Fonction"
   ]
  },
  {
   "cell_type": "code",
   "execution_count": 13,
   "metadata": {},
   "outputs": [],
   "source": [
    "tb = Blobber(pos_tagger=PatternTagger(), analyzer=PatternAnalyzer())\n",
    "\n",
    "def get_sentiment(input_text):\n",
    "    blob = tb(input_text)\n",
    "    pola, subj = blob.sentiment\n",
    "    perc = f\"{100*abs(pola):.0f}\"\n",
    "    if pola > 0:\n",
    "        sent = f\"{perc}% positive\"\n",
    "    elif pola < 0:\n",
    "        sent = f\"{perc}% negative\"\n",
    "    else:\n",
    "        sent = \"neutral\"\n",
    "    if subj > 0:\n",
    "        fact = f\"{100*subj:.0f}% subjective\"\n",
    "    else:\n",
    "        fact = \"perfectly objective\"\n",
    "    print(f\"This text is {sent} and {fact}.\")"
   ]
  },
  {
   "cell_type": "markdown",
   "metadata": {},
   "source": [
    "## Analyser le sentiment d'une phrase"
   ]
  },
  {
   "cell_type": "code",
   "execution_count": 16,
   "metadata": {
    "tags": []
   },
   "outputs": [
    {
     "name": "stdout",
     "output_type": "stream",
     "text": [
      "This text is 50% negative and 50% subjective.\n"
     ]
    }
   ],
   "source": [
    "get_sentiment(\"Jusque-là je crois la discussion impossible.\")"
   ]
  },
  {
   "cell_type": "code",
   "execution_count": 18,
   "metadata": {
    "tags": []
   },
   "outputs": [
    {
     "name": "stdout",
     "output_type": "stream",
     "text": [
      "This text is 4% positive and 52% subjective.\n"
     ]
    }
   ],
   "source": [
    "get_sentiment(\"La situation financière de la Ville est embarrassée, et il importe de ne pas l'aggraver en n'examinant pas avec tout le soin qu'elles comportent des questions aussi importantes.\")"
   ]
  },
  {
   "cell_type": "code",
   "execution_count": 19,
   "metadata": {},
   "outputs": [
    {
     "name": "stdout",
     "output_type": "stream",
     "text": [
      "This text is 80% positive and 80% subjective.\n"
     ]
    }
   ],
   "source": [
    "get_sentiment(\"Veuillez agréer, Monsieur le Ministre, l'assurance de notre parfaite considération.\")"
   ]
  },
  {
   "cell_type": "code",
   "execution_count": 20,
   "metadata": {},
   "outputs": [
    {
     "name": "stdout",
     "output_type": "stream",
     "text": [
      "This text is 15% positive and 60% subjective.\n"
     ]
    }
   ],
   "source": [
    "get_sentiment(\"Ce n'est que sur un rapport détaillé ou après une enquête justifiée que je me résigne à prendre une mesure aussi rigoureuse..\")"
   ]
  },
  {
   "cell_type": "code",
   "execution_count": 21,
   "metadata": {},
   "outputs": [
    {
     "name": "stdout",
     "output_type": "stream",
     "text": [
      "This text is 8% positive and 20% subjective.\n"
     ]
    }
   ],
   "source": [
    "get_sentiment(\"Il serait désirable que les documents, entourés de mystère dès le commencement, nous soient remis à bref délai..\")"
   ]
  },
  {
   "cell_type": "code",
   "execution_count": 22,
   "metadata": {},
   "outputs": [
    {
     "name": "stdout",
     "output_type": "stream",
     "text": [
      "This text is 2% negative and 5% subjective.\n"
     ]
    }
   ],
   "source": [
    "get_sentiment(\"Le Gouvernement nous expulse de ses locaux, et c'est la Ville qui relève l'Ecole, comme elle en a relevé bien d'autres. \")"
   ]
  },
  {
   "cell_type": "code",
   "execution_count": 27,
   "metadata": {},
   "outputs": [
    {
     "name": "stdout",
     "output_type": "stream",
     "text": [
      "This text is 50% positive and 70% subjective.\n"
     ]
    }
   ],
   "source": [
    "get_sentiment(\"M . Lepage et les honorables préopinants ne critiquent pas l'acquisition de ces maisons..\")"
   ]
  },
  {
   "cell_type": "code",
   "execution_count": 24,
   "metadata": {},
   "outputs": [
    {
     "name": "stdout",
     "output_type": "stream",
     "text": [
      "This text is 24% positive and 45% subjective.\n"
     ]
    }
   ],
   "source": [
    "get_sentiment(\"Discuter sans savoir ce qu'une partie importante de nos administrés aura à dire, serait chose peu loyale.\")"
   ]
  },
  {
   "cell_type": "code",
   "execution_count": 25,
   "metadata": {},
   "outputs": [
    {
     "name": "stdout",
     "output_type": "stream",
     "text": [
      "This text is neutral and perfectly objective.\n"
     ]
    }
   ],
   "source": [
    "get_sentiment(\" En acceptant cette proposition, nous nagerions dans l'incertitude\")"
   ]
  },
  {
   "cell_type": "code",
   "execution_count": 26,
   "metadata": {},
   "outputs": [
    {
     "name": "stdout",
     "output_type": "stream",
     "text": [
      "This text is 13% negative and 15% subjective.\n"
     ]
    }
   ],
   "source": [
    "get_sentiment(\"Considérant, d'autre part, qu'il est impossible, pour diverses raisons majeures de placer les vieillards à domicile ou chez les particuliers et que l'ancienne campagne Mathieu est la seule propriété à Laeken qui puisse servir momentanément de refuge aux pensionnaires des Hospices.\")"
   ]
  },
  {
   "cell_type": "code",
   "execution_count": null,
   "metadata": {},
   "outputs": [],
   "source": []
  }
 ],
 "metadata": {
  "kernelspec": {
   "display_name": "Python 3",
   "language": "python",
   "name": "python3"
  },
  "language_info": {
   "codemirror_mode": {
    "name": "ipython",
    "version": 3
   },
   "file_extension": ".py",
   "mimetype": "text/x-python",
   "name": "python",
   "nbconvert_exporter": "python",
   "pygments_lexer": "ipython3",
   "version": "3.7.9"
  }
 },
 "nbformat": 4,
 "nbformat_minor": 2
}
